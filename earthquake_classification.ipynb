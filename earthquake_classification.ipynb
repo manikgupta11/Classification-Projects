{
 "cells": [
  {
   "cell_type": "code",
   "execution_count": null,
   "metadata": {
    "id": "1YvhGKkaJtZS"
   },
   "outputs": [],
   "source": [
    "import pandas as pd\n",
    "import numpy as np\n",
    "import matplotlib.pyplot as plt"
   ]
  },
  {
   "cell_type": "code",
   "execution_count": null,
   "metadata": {
    "colab": {
     "base_uri": "https://localhost:8080/",
     "height": 243
    },
    "id": "Z-4QNf9OKbLz",
    "outputId": "8b512b7b-5111-4988-bb79-83bf17a43e17"
   },
   "outputs": [
    {
     "name": "stderr",
     "output_type": "stream",
     "text": [
      "/usr/local/lib/python3.6/dist-packages/IPython/core/interactiveshell.py:2718: DtypeWarning: Columns (2,5,7,9,10,11,12,13,15) have mixed types.Specify dtype option on import or set low_memory=False.\n",
      "  interactivity=interactivity, compiler=compiler, result=result)\n"
     ]
    },
    {
     "data": {
      "text/html": [
       "<div>\n",
       "<style scoped>\n",
       "    .dataframe tbody tr th:only-of-type {\n",
       "        vertical-align: middle;\n",
       "    }\n",
       "\n",
       "    .dataframe tbody tr th {\n",
       "        vertical-align: top;\n",
       "    }\n",
       "\n",
       "    .dataframe thead th {\n",
       "        text-align: right;\n",
       "    }\n",
       "</style>\n",
       "<table border=\"1\" class=\"dataframe\">\n",
       "  <thead>\n",
       "    <tr style=\"text-align: right;\">\n",
       "      <th></th>\n",
       "      <th>S.No</th>\n",
       "      <th>Year</th>\n",
       "      <th>Month</th>\n",
       "      <th>Date</th>\n",
       "      <th>UTC</th>\n",
       "      <th>magnitude</th>\n",
       "      <th>LAT(N)</th>\n",
       "      <th>LONG(E)</th>\n",
       "      <th>Depth(km)</th>\n",
       "      <th>Location</th>\n",
       "      <th>Reference</th>\n",
       "    </tr>\n",
       "  </thead>\n",
       "  <tbody>\n",
       "    <tr>\n",
       "      <th>0</th>\n",
       "      <td>1</td>\n",
       "      <td>-2474</td>\n",
       "      <td>0</td>\n",
       "      <td>0.0</td>\n",
       "      <td>NaN</td>\n",
       "      <td>7.5000</td>\n",
       "      <td>71</td>\n",
       "      <td>24</td>\n",
       "      <td>0.0</td>\n",
       "      <td>NaN</td>\n",
       "      <td>Dr STGR</td>\n",
       "    </tr>\n",
       "    <tr>\n",
       "      <th>1</th>\n",
       "      <td>2</td>\n",
       "      <td>-325</td>\n",
       "      <td>0</td>\n",
       "      <td>0.0</td>\n",
       "      <td>NaN</td>\n",
       "      <td>7.5000</td>\n",
       "      <td>71</td>\n",
       "      <td>24</td>\n",
       "      <td>0.0</td>\n",
       "      <td>NaN</td>\n",
       "      <td>Dr STGR</td>\n",
       "    </tr>\n",
       "    <tr>\n",
       "      <th>2</th>\n",
       "      <td>3</td>\n",
       "      <td>25</td>\n",
       "      <td>0</td>\n",
       "      <td>0.0</td>\n",
       "      <td>NaN</td>\n",
       "      <td>7.5000</td>\n",
       "      <td>72.9</td>\n",
       "      <td>33.72</td>\n",
       "      <td>0.0</td>\n",
       "      <td>NaN</td>\n",
       "      <td>Dr STGR</td>\n",
       "    </tr>\n",
       "    <tr>\n",
       "      <th>3</th>\n",
       "      <td>4</td>\n",
       "      <td>26</td>\n",
       "      <td>5</td>\n",
       "      <td>10.0</td>\n",
       "      <td>08.19.10.0</td>\n",
       "      <td>6.1397</td>\n",
       "      <td>17.3</td>\n",
       "      <td>80.1</td>\n",
       "      <td>NaN</td>\n",
       "      <td>NaN</td>\n",
       "      <td>NEIC</td>\n",
       "    </tr>\n",
       "    <tr>\n",
       "      <th>4</th>\n",
       "      <td>5</td>\n",
       "      <td>26</td>\n",
       "      <td>5</td>\n",
       "      <td>10.0</td>\n",
       "      <td>08.19.10.0</td>\n",
       "      <td>6.1397</td>\n",
       "      <td>26</td>\n",
       "      <td>97</td>\n",
       "      <td>80.0</td>\n",
       "      <td>Myanmar</td>\n",
       "      <td>G-R</td>\n",
       "    </tr>\n",
       "  </tbody>\n",
       "</table>\n",
       "</div>"
      ],
      "text/plain": [
       "   S.No  Year Month  Date  ... LONG(E)  Depth(km) Location Reference\n",
       "0     1 -2474     0   0.0  ...      24        0.0      NaN   Dr STGR\n",
       "1     2  -325     0   0.0  ...      24        0.0      NaN   Dr STGR\n",
       "2     3    25     0   0.0  ...   33.72        0.0      NaN   Dr STGR\n",
       "3     4    26     5  10.0  ...    80.1        NaN      NaN      NEIC\n",
       "4     5    26     5  10.0  ...      97       80.0  Myanmar       G-R\n",
       "\n",
       "[5 rows x 11 columns]"
      ]
     },
     "execution_count": 17,
     "metadata": {
      "tags": []
     },
     "output_type": "execute_result"
    }
   ],
   "source": [
    "df = pd.read_csv('/content/Indian Earthquakes List Update_Magnitudes.csv', encoding='latin1', skiprows=10)\n",
    "# df = df.drop(df.index[0])\n",
    "df.columns=['S.No','Year', 'Month','Date','UTC','IST','magnitude','magnitude2','magnitude3','magnitude4','ms','ml','LAT(N)','LONG(E)','Depth(km)','MM','MMI','MME','Location','Reference' ]\n",
    "df = df.drop(columns=['MM', 'MMI','MME','magnitude2','magnitude3','magnitude4','ms','ml','IST'])\n",
    "df.head()"
   ]
  },
  {
   "cell_type": "code",
   "execution_count": null,
   "metadata": {
    "colab": {
     "base_uri": "https://localhost:8080/",
     "height": 363
    },
    "id": "xeLFzi9pKbhP",
    "outputId": "23ca7ccb-7da6-4afc-b234-d32c04489a99"
   },
   "outputs": [
    {
     "data": {
      "text/html": [
       "<div>\n",
       "<style scoped>\n",
       "    .dataframe tbody tr th:only-of-type {\n",
       "        vertical-align: middle;\n",
       "    }\n",
       "\n",
       "    .dataframe tbody tr th {\n",
       "        vertical-align: top;\n",
       "    }\n",
       "\n",
       "    .dataframe thead th {\n",
       "        text-align: right;\n",
       "    }\n",
       "</style>\n",
       "<table border=\"1\" class=\"dataframe\">\n",
       "  <thead>\n",
       "    <tr style=\"text-align: right;\">\n",
       "      <th></th>\n",
       "      <th>S.No</th>\n",
       "      <th>Year</th>\n",
       "      <th>Month</th>\n",
       "      <th>Date</th>\n",
       "      <th>UTC</th>\n",
       "      <th>magnitude</th>\n",
       "      <th>LAT(N)</th>\n",
       "      <th>LONG(E)</th>\n",
       "      <th>Depth(km)</th>\n",
       "      <th>Location</th>\n",
       "      <th>Reference</th>\n",
       "    </tr>\n",
       "  </thead>\n",
       "  <tbody>\n",
       "    <tr>\n",
       "      <th>count</th>\n",
       "      <td>52989.000000</td>\n",
       "      <td>52989.000000</td>\n",
       "      <td>52971.0</td>\n",
       "      <td>52932.000000</td>\n",
       "      <td>21186</td>\n",
       "      <td>40935.000000</td>\n",
       "      <td>52989.0</td>\n",
       "      <td>52989.0</td>\n",
       "      <td>50811.000000</td>\n",
       "      <td>9374</td>\n",
       "      <td>51407</td>\n",
       "    </tr>\n",
       "    <tr>\n",
       "      <th>unique</th>\n",
       "      <td>NaN</td>\n",
       "      <td>NaN</td>\n",
       "      <td>36.0</td>\n",
       "      <td>NaN</td>\n",
       "      <td>18093</td>\n",
       "      <td>NaN</td>\n",
       "      <td>14513.0</td>\n",
       "      <td>14688.0</td>\n",
       "      <td>NaN</td>\n",
       "      <td>1637</td>\n",
       "      <td>38</td>\n",
       "    </tr>\n",
       "    <tr>\n",
       "      <th>top</th>\n",
       "      <td>NaN</td>\n",
       "      <td>NaN</td>\n",
       "      <td>1.0</td>\n",
       "      <td>NaN</td>\n",
       "      <td>..</td>\n",
       "      <td>NaN</td>\n",
       "      <td>70.5</td>\n",
       "      <td>36.5</td>\n",
       "      <td>NaN</td>\n",
       "      <td>Myanmar</td>\n",
       "      <td>Dr STGR</td>\n",
       "    </tr>\n",
       "    <tr>\n",
       "      <th>freq</th>\n",
       "      <td>NaN</td>\n",
       "      <td>NaN</td>\n",
       "      <td>3454.0</td>\n",
       "      <td>NaN</td>\n",
       "      <td>8</td>\n",
       "      <td>NaN</td>\n",
       "      <td>120.0</td>\n",
       "      <td>224.0</td>\n",
       "      <td>NaN</td>\n",
       "      <td>1574</td>\n",
       "      <td>30468</td>\n",
       "    </tr>\n",
       "    <tr>\n",
       "      <th>mean</th>\n",
       "      <td>26480.004246</td>\n",
       "      <td>1991.584669</td>\n",
       "      <td>NaN</td>\n",
       "      <td>16.393958</td>\n",
       "      <td>NaN</td>\n",
       "      <td>4.537564</td>\n",
       "      <td>NaN</td>\n",
       "      <td>NaN</td>\n",
       "      <td>45.569867</td>\n",
       "      <td>NaN</td>\n",
       "      <td>NaN</td>\n",
       "    </tr>\n",
       "    <tr>\n",
       "      <th>std</th>\n",
       "      <td>15296.743693</td>\n",
       "      <td>41.964962</td>\n",
       "      <td>NaN</td>\n",
       "      <td>8.969178</td>\n",
       "      <td>NaN</td>\n",
       "      <td>0.625875</td>\n",
       "      <td>NaN</td>\n",
       "      <td>NaN</td>\n",
       "      <td>55.517009</td>\n",
       "      <td>NaN</td>\n",
       "      <td>NaN</td>\n",
       "    </tr>\n",
       "    <tr>\n",
       "      <th>min</th>\n",
       "      <td>1.000000</td>\n",
       "      <td>-2474.000000</td>\n",
       "      <td>NaN</td>\n",
       "      <td>0.000000</td>\n",
       "      <td>NaN</td>\n",
       "      <td>2.000000</td>\n",
       "      <td>NaN</td>\n",
       "      <td>NaN</td>\n",
       "      <td>0.000000</td>\n",
       "      <td>NaN</td>\n",
       "      <td>NaN</td>\n",
       "    </tr>\n",
       "    <tr>\n",
       "      <th>25%</th>\n",
       "      <td>13233.000000</td>\n",
       "      <td>1986.000000</td>\n",
       "      <td>NaN</td>\n",
       "      <td>9.000000</td>\n",
       "      <td>NaN</td>\n",
       "      <td>4.200000</td>\n",
       "      <td>NaN</td>\n",
       "      <td>NaN</td>\n",
       "      <td>10.000000</td>\n",
       "      <td>NaN</td>\n",
       "      <td>NaN</td>\n",
       "    </tr>\n",
       "    <tr>\n",
       "      <th>50%</th>\n",
       "      <td>26480.000000</td>\n",
       "      <td>1999.000000</td>\n",
       "      <td>NaN</td>\n",
       "      <td>16.000000</td>\n",
       "      <td>NaN</td>\n",
       "      <td>4.400000</td>\n",
       "      <td>NaN</td>\n",
       "      <td>NaN</td>\n",
       "      <td>33.000000</td>\n",
       "      <td>NaN</td>\n",
       "      <td>NaN</td>\n",
       "    </tr>\n",
       "    <tr>\n",
       "      <th>75%</th>\n",
       "      <td>39727.000000</td>\n",
       "      <td>2005.000000</td>\n",
       "      <td>NaN</td>\n",
       "      <td>25.000000</td>\n",
       "      <td>NaN</td>\n",
       "      <td>4.800000</td>\n",
       "      <td>NaN</td>\n",
       "      <td>NaN</td>\n",
       "      <td>55.000000</td>\n",
       "      <td>NaN</td>\n",
       "      <td>NaN</td>\n",
       "    </tr>\n",
       "    <tr>\n",
       "      <th>max</th>\n",
       "      <td>52974.000000</td>\n",
       "      <td>2019.000000</td>\n",
       "      <td>NaN</td>\n",
       "      <td>31.000000</td>\n",
       "      <td>NaN</td>\n",
       "      <td>9.100000</td>\n",
       "      <td>NaN</td>\n",
       "      <td>NaN</td>\n",
       "      <td>831.200000</td>\n",
       "      <td>NaN</td>\n",
       "      <td>NaN</td>\n",
       "    </tr>\n",
       "  </tbody>\n",
       "</table>\n",
       "</div>"
      ],
      "text/plain": [
       "                S.No          Year    Month  ...     Depth(km) Location  Reference\n",
       "count   52989.000000  52989.000000  52971.0  ...  50811.000000     9374      51407\n",
       "unique           NaN           NaN     36.0  ...           NaN     1637         38\n",
       "top              NaN           NaN      1.0  ...           NaN  Myanmar    Dr STGR\n",
       "freq             NaN           NaN   3454.0  ...           NaN     1574      30468\n",
       "mean    26480.004246   1991.584669      NaN  ...     45.569867      NaN        NaN\n",
       "std     15296.743693     41.964962      NaN  ...     55.517009      NaN        NaN\n",
       "min         1.000000  -2474.000000      NaN  ...      0.000000      NaN        NaN\n",
       "25%     13233.000000   1986.000000      NaN  ...     10.000000      NaN        NaN\n",
       "50%     26480.000000   1999.000000      NaN  ...     33.000000      NaN        NaN\n",
       "75%     39727.000000   2005.000000      NaN  ...     55.000000      NaN        NaN\n",
       "max     52974.000000   2019.000000      NaN  ...    831.200000      NaN        NaN\n",
       "\n",
       "[11 rows x 11 columns]"
      ]
     },
     "execution_count": 18,
     "metadata": {
      "tags": []
     },
     "output_type": "execute_result"
    }
   ],
   "source": [
    "df.describe(include='all')"
   ]
  },
  {
   "cell_type": "code",
   "execution_count": null,
   "metadata": {
    "colab": {
     "base_uri": "https://localhost:8080/",
     "height": 310
    },
    "id": "V6SarQiiSYfs",
    "outputId": "8e8533a7-82ed-46a5-f83f-27bf6202d35f"
   },
   "outputs": [
    {
     "name": "stdout",
     "output_type": "stream",
     "text": [
      "<class 'pandas.core.frame.DataFrame'>\n",
      "RangeIndex: 52989 entries, 0 to 52988\n",
      "Data columns (total 11 columns):\n",
      " #   Column     Non-Null Count  Dtype  \n",
      "---  ------     --------------  -----  \n",
      " 0   S.No       52989 non-null  int64  \n",
      " 1   Year       52989 non-null  int64  \n",
      " 2   Month      52971 non-null  object \n",
      " 3   Date       52932 non-null  float64\n",
      " 4   UTC        21186 non-null  object \n",
      " 5   magnitude  40935 non-null  float64\n",
      " 6   LAT(N)     52989 non-null  object \n",
      " 7   LONG(E)    52989 non-null  object \n",
      " 8   Depth(km)  50811 non-null  float64\n",
      " 9   Location   9374 non-null   object \n",
      " 10  Reference  51407 non-null  object \n",
      "dtypes: float64(3), int64(2), object(6)\n",
      "memory usage: 4.4+ MB\n"
     ]
    }
   ],
   "source": [
    "\n",
    "df.info()"
   ]
  },
  {
   "cell_type": "code",
   "execution_count": null,
   "metadata": {
    "id": "FL-es_KNUvcn"
   },
   "outputs": [],
   "source": [
    "# 31.8°N, 10.6 N, 10.6N, 02.5°N, 12.3ｰN  , 18.1?, 18.1S \n",
    "def cleanLat(x):\n",
    "    x=str(x)\n",
    "    x=x.replace(',','.')\n",
    "    x=x.replace('°','')\n",
    "    x=x.replace('?','')\n",
    "    x=x.replace('-','')\n",
    "    if('N' in x):   return float(x.split('N')[0])\n",
    "    if('S' in x):   return 0 - float(x.split('S')[0])\n",
    "    return float(x)\n",
    "def cleanLong(x):\n",
    "    x=str(x)\n",
    "    x=x.replace(',','.')\n",
    "    x=x.replace('°','')\n",
    "    x=x.replace('?','')\n",
    "    x=x.replace('-','')\n",
    "    x=x.replace('S','')\n",
    "    if('E' in x):   return float(x.split('E')[0])\n",
    "    if('W' in x):   return 0 - float(x.split('W')[0])\n",
    "    return float(x)\n",
    "\n",
    "def cat(x):\n",
    "    if x<4.7:\n",
    "        return 0\n",
    "    else:\n",
    "        return 1\n",
    "\n",
    "df['LAT(N)'] = df['LAT(N)'].apply(cleanLat)\n",
    "df['LONG(E)'] = df['LONG(E)'].apply(cleanLong)\n",
    "df['magnitude'] = df['magnitude'].apply(cat)\n",
    "\n",
    "# convert_dict = {'S.No': int, \n",
    "#                 'Year': int,\n",
    "#                 'LAT(N)':float\n",
    "#                } \n",
    "# df = df.astype(convert_dict) \n",
    "\n"
   ]
  },
  {
   "cell_type": "code",
   "execution_count": null,
   "metadata": {
    "colab": {
     "base_uri": "https://localhost:8080/",
     "height": 310
    },
    "id": "mcDhvmvxW9LQ",
    "outputId": "82eb13c7-3e7c-48a3-d29e-bfbbcfde9461"
   },
   "outputs": [
    {
     "name": "stdout",
     "output_type": "stream",
     "text": [
      "<class 'pandas.core.frame.DataFrame'>\n",
      "RangeIndex: 52989 entries, 0 to 52988\n",
      "Data columns (total 11 columns):\n",
      " #   Column     Non-Null Count  Dtype  \n",
      "---  ------     --------------  -----  \n",
      " 0   S.No       52989 non-null  int64  \n",
      " 1   Year       52989 non-null  int64  \n",
      " 2   Month      52971 non-null  object \n",
      " 3   Date       52932 non-null  float64\n",
      " 4   UTC        21186 non-null  object \n",
      " 5   magnitude  52989 non-null  int64  \n",
      " 6   LAT(N)     52989 non-null  float64\n",
      " 7   LONG(E)    52989 non-null  float64\n",
      " 8   Depth(km)  50811 non-null  float64\n",
      " 9   Location   9374 non-null   object \n",
      " 10  Reference  51407 non-null  object \n",
      "dtypes: float64(4), int64(3), object(4)\n",
      "memory usage: 4.4+ MB\n"
     ]
    }
   ],
   "source": [
    "df.info()"
   ]
  },
  {
   "cell_type": "code",
   "execution_count": null,
   "metadata": {
    "colab": {
     "base_uri": "https://localhost:8080/",
     "height": 277
    },
    "id": "fRRqvS6Ml6Nc",
    "outputId": "d9970849-db13-4aab-96fd-cb4ff4a0a179"
   },
   "outputs": [
    {
     "data": {
      "text/html": [
       "<div>\n",
       "<style scoped>\n",
       "    .dataframe tbody tr th:only-of-type {\n",
       "        vertical-align: middle;\n",
       "    }\n",
       "\n",
       "    .dataframe tbody tr th {\n",
       "        vertical-align: top;\n",
       "    }\n",
       "\n",
       "    .dataframe thead th {\n",
       "        text-align: right;\n",
       "    }\n",
       "</style>\n",
       "<table border=\"1\" class=\"dataframe\">\n",
       "  <thead>\n",
       "    <tr style=\"text-align: right;\">\n",
       "      <th></th>\n",
       "      <th>S.No</th>\n",
       "      <th>Year</th>\n",
       "      <th>Date</th>\n",
       "      <th>magnitude</th>\n",
       "      <th>LAT(N)</th>\n",
       "      <th>LONG(E)</th>\n",
       "      <th>Depth(km)</th>\n",
       "    </tr>\n",
       "  </thead>\n",
       "  <tbody>\n",
       "    <tr>\n",
       "      <th>count</th>\n",
       "      <td>52989.000000</td>\n",
       "      <td>52989.000000</td>\n",
       "      <td>52932.000000</td>\n",
       "      <td>52989.000000</td>\n",
       "      <td>52989.000000</td>\n",
       "      <td>52989.000000</td>\n",
       "      <td>50811.000000</td>\n",
       "    </tr>\n",
       "    <tr>\n",
       "      <th>mean</th>\n",
       "      <td>26480.004246</td>\n",
       "      <td>1991.584669</td>\n",
       "      <td>16.393958</td>\n",
       "      <td>0.483138</td>\n",
       "      <td>57.619317</td>\n",
       "      <td>52.035121</td>\n",
       "      <td>45.569867</td>\n",
       "    </tr>\n",
       "    <tr>\n",
       "      <th>std</th>\n",
       "      <td>15296.743693</td>\n",
       "      <td>41.964962</td>\n",
       "      <td>8.969178</td>\n",
       "      <td>0.499720</td>\n",
       "      <td>31.293989</td>\n",
       "      <td>52.500930</td>\n",
       "      <td>55.517009</td>\n",
       "    </tr>\n",
       "    <tr>\n",
       "      <th>min</th>\n",
       "      <td>1.000000</td>\n",
       "      <td>-2474.000000</td>\n",
       "      <td>0.000000</td>\n",
       "      <td>0.000000</td>\n",
       "      <td>-60.700000</td>\n",
       "      <td>-179.700000</td>\n",
       "      <td>0.000000</td>\n",
       "    </tr>\n",
       "    <tr>\n",
       "      <th>25%</th>\n",
       "      <td>13233.000000</td>\n",
       "      <td>1986.000000</td>\n",
       "      <td>9.000000</td>\n",
       "      <td>0.000000</td>\n",
       "      <td>26.750000</td>\n",
       "      <td>27.340000</td>\n",
       "      <td>10.000000</td>\n",
       "    </tr>\n",
       "    <tr>\n",
       "      <th>50%</th>\n",
       "      <td>26480.000000</td>\n",
       "      <td>1999.000000</td>\n",
       "      <td>16.000000</td>\n",
       "      <td>0.000000</td>\n",
       "      <td>70.390000</td>\n",
       "      <td>37.360000</td>\n",
       "      <td>33.000000</td>\n",
       "    </tr>\n",
       "    <tr>\n",
       "      <th>75%</th>\n",
       "      <td>39727.000000</td>\n",
       "      <td>2005.000000</td>\n",
       "      <td>25.000000</td>\n",
       "      <td>1.000000</td>\n",
       "      <td>90.790000</td>\n",
       "      <td>91.100000</td>\n",
       "      <td>55.000000</td>\n",
       "    </tr>\n",
       "    <tr>\n",
       "      <th>max</th>\n",
       "      <td>52974.000000</td>\n",
       "      <td>2019.000000</td>\n",
       "      <td>31.000000</td>\n",
       "      <td>1.000000</td>\n",
       "      <td>100.000000</td>\n",
       "      <td>9128.200000</td>\n",
       "      <td>831.200000</td>\n",
       "    </tr>\n",
       "  </tbody>\n",
       "</table>\n",
       "</div>"
      ],
      "text/plain": [
       "               S.No          Year  ...       LONG(E)     Depth(km)\n",
       "count  52989.000000  52989.000000  ...  52989.000000  50811.000000\n",
       "mean   26480.004246   1991.584669  ...     52.035121     45.569867\n",
       "std    15296.743693     41.964962  ...     52.500930     55.517009\n",
       "min        1.000000  -2474.000000  ...   -179.700000      0.000000\n",
       "25%    13233.000000   1986.000000  ...     27.340000     10.000000\n",
       "50%    26480.000000   1999.000000  ...     37.360000     33.000000\n",
       "75%    39727.000000   2005.000000  ...     91.100000     55.000000\n",
       "max    52974.000000   2019.000000  ...   9128.200000    831.200000\n",
       "\n",
       "[8 rows x 7 columns]"
      ]
     },
     "execution_count": 22,
     "metadata": {
      "tags": []
     },
     "output_type": "execute_result"
    }
   ],
   "source": [
    "df.describe()"
   ]
  },
  {
   "cell_type": "code",
   "execution_count": null,
   "metadata": {
    "colab": {
     "base_uri": "https://localhost:8080/",
     "height": 570
    },
    "id": "VYqYH6Sbi_FW",
    "outputId": "2c3981e9-afe5-4d31-e56f-d49b1d749acd"
   },
   "outputs": [
    {
     "name": "stdout",
     "output_type": "stream",
     "text": [
      "<class 'pandas.core.frame.DataFrame'>\n",
      "Int64Index: 50811 entries, 0 to 52988\n",
      "Data columns (total 5 columns):\n",
      " #   Column     Non-Null Count  Dtype  \n",
      "---  ------     --------------  -----  \n",
      " 0   Year       50811 non-null  int64  \n",
      " 1   LAT(N)     50811 non-null  float64\n",
      " 2   LONG(E)    50811 non-null  float64\n",
      " 3   Depth(km)  50811 non-null  float64\n",
      " 4   magnitude  50811 non-null  int64  \n",
      "dtypes: float64(3), int64(2)\n",
      "memory usage: 2.3 MB\n",
      "None\n",
      "               Year        LAT(N)       LONG(E)     Depth(km)     magnitude\n",
      "count  50811.000000  50811.000000  50811.000000  50811.000000  50811.000000\n",
      "mean    1994.034048     59.167672     50.697023     45.569867      0.468816\n",
      "std       38.612676     31.004081     53.175970     55.517009      0.499032\n",
      "min    -2474.000000    -60.700000   -179.700000      0.000000      0.000000\n",
      "25%     1989.000000     27.700000     26.315000     10.000000      0.000000\n",
      "50%     2000.000000     70.740000     36.940000     33.000000      0.000000\n",
      "75%     2005.000000     91.725000     91.062500     55.000000      1.000000\n",
      "max     2019.000000    100.000000   9128.200000    831.200000      1.000000\n",
      "   Year  LAT(N)  LONG(E)  Depth(km)\n",
      "0 -2474    71.0    24.00        0.0\n",
      "1  -325    71.0    24.00        0.0\n",
      "2    25    72.9    33.72        0.0\n",
      "4    26    26.0    97.00       80.0\n",
      "5    50    69.5    37.10        0.0\n",
      "   magnitude\n",
      "0          1\n",
      "1          1\n",
      "2          1\n",
      "4          1\n",
      "5          1\n"
     ]
    }
   ],
   "source": [
    "df2 = df[['Year','LAT(N)','LONG(E)','Depth(km)','magnitude']]\n",
    "df2 = df2.dropna(axis=0,how='any') \n",
    "print(df2.info())\n",
    "print(df2.describe())\n",
    "x=df2[['Year','LAT(N)','LONG(E)','Depth(km)']]\n",
    "y=df2[['magnitude']]\n",
    "print(x.head())\n",
    "print(y.head())"
   ]
  },
  {
   "cell_type": "code",
   "execution_count": null,
   "metadata": {
    "id": "0-64WuIugj2i"
   },
   "outputs": [],
   "source": [
    "from sklearn.model_selection import train_test_split\n",
    "x_train, x_test, y_train, y_test = train_test_split(x,y, test_size=0.2, random_state=42)"
   ]
  },
  {
   "cell_type": "code",
   "execution_count": null,
   "metadata": {
    "id": "e62HHzJok5n8"
   },
   "outputs": [],
   "source": [
    "# from sklearn.neighbors import KNeighborsClassifier\n",
    "# model = KNeighborsClassifier(n_neighbors=3)\n",
    "# model.fit(x_train,y_train)\n",
    "# predicted= model.predict(x_test)\n",
    "\n",
    "from sklearn.tree import DecisionTreeClassifier\n",
    "model = DecisionTreeClassifier()\n",
    "model.fit(x_train,y_train)\n",
    "predicted= model.predict(x_test)\n",
    "\n",
    "# from sklearn.svm import SVC\n",
    "# model = SVC()\n",
    "# model.fit(x_train,y_train)\n",
    "# predicted= model.predict(x_test)\n",
    "\n",
    "# from sklearn.ensemble import RandomForestClassifier\n",
    "# model = RandomForestClassifier()\n",
    "# model.fit(x_train,y_train)\n",
    "# predicted= model.predict(x_test)\n",
    "\n",
    "# from sklearn.dummy import DummyClassifier\n",
    "# model = DummyClassifier()\n",
    "# model.fit(x_train,y_train)\n",
    "# predicted= model.predict(x_test)\n",
    "                       "
   ]
  },
  {
   "cell_type": "code",
   "execution_count": null,
   "metadata": {
    "colab": {
     "base_uri": "https://localhost:8080/",
     "height": 66
    },
    "id": "UMe5k96vljia",
    "outputId": "5969e166-cf85-455e-dd14-c9ea8b66cba7"
   },
   "outputs": [
    {
     "name": "stdout",
     "output_type": "stream",
     "text": [
      "[[3818 1496]\n",
      " [1644 3205]]\n",
      "0.6910361113844338\n"
     ]
    }
   ],
   "source": [
    "# print(predicted[:5])\n",
    "# print(y_test[:5])\n",
    "from sklearn.metrics import confusion_matrix\n",
    "print(confusion_matrix(predicted, y_test))\n",
    "from sklearn.metrics import accuracy_score\n",
    "print(accuracy_score(predicted, y_test))"
   ]
  },
  {
   "cell_type": "code",
   "execution_count": null,
   "metadata": {
    "colab": {
     "base_uri": "https://localhost:8080/",
     "height": 328
    },
    "id": "NwPG4DwNpU1j",
    "outputId": "ca334946-8e26-4547-b2ad-12c375c19b21"
   },
   "outputs": [
    {
     "data": {
      "text/plain": [
       "<matplotlib.axes._subplots.AxesSubplot at 0x7fdda9f5cef0>"
      ]
     },
     "execution_count": 43,
     "metadata": {
      "tags": []
     },
     "output_type": "execute_result"
    },
    {
     "data": {
      "image/png": "[encoded data removed]",
      "text/plain": [
       "<Figure size 432x288 with 2 Axes>"
      ]
     },
     "metadata": {
      "needs_background": "light",
      "tags": []
     },
     "output_type": "display_data"
    }
   ],
   "source": [
    "df2.corr()\n",
    "import seaborn as sns\n",
    "sns.heatmap(df2.corr())"
   ]
  },
  {
   "cell_type": "code",
   "execution_count": null,
   "metadata": {
    "colab": {
     "base_uri": "https://localhost:8080/",
     "height": 278
    },
    "id": "Ja0a69stL6tZ",
    "outputId": "03c12c1f-91f9-4e7c-9135-c9d83bf64fef"
   },
   "outputs": [
    {
     "data": {
      "image/png": "[encoded data removed]",
      "text/plain": [
       "<Figure size 432x288 with 1 Axes>"
      ]
     },
     "metadata": {
      "needs_background": "light",
      "tags": []
     },
     "output_type": "display_data"
    }
   ],
   "source": [
    "from sklearn.metrics import roc_curve\n",
    "# fpr, tpr, thresholds = roc_curve(predicted, y_test, pos_label=2)\n",
    "# print(fpr)\n",
    "# print(fpr)\n",
    "# plt.plot(fpr, tpr)\n",
    "from sklearn.metrics import plot_roc_curve\n",
    "svc_disp = plot_roc_curve(model, x_test, y_test)"
   ]
  },
  {
   "cell_type": "code",
   "execution_count": null,
   "metadata": {
    "id": "p3aDA9AkLnsN"
   },
   "outputs": [],
   "source": []
  }
 ],
 "metadata": {
  "colab": {
   "collapsed_sections": [],
   "name": "DA_assg1.ipynb",
   "provenance": []
  },
  "kernelspec": {
   "display_name": "Python 3",
   "language": "python",
   "name": "python3"
  },
  "language_info": {
   "codemirror_mode": {
    "name": "ipython",
    "version": 3
   },
   "file_extension": ".py",
   "mimetype": "text/x-python",
   "name": "python",
   "nbconvert_exporter": "python",
   "pygments_lexer": "ipython3",
   "version": "3.6.9"
  }
 },
 "nbformat": 4,
 "nbformat_minor": 1
}
