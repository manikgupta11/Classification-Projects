{
 "cells": [
  {
   "cell_type": "code",
   "execution_count": 0,
   "metadata": {
    "colab": {},
    "colab_type": "code",
    "id": "frJvLCj9-fxD"
   },
   "outputs": [],
   "source": [
    "import numpy as np\n",
    "import matplotlib.pyplot as plt\n",
    "import matplotlib.image as mpimg\n",
    "import os\n",
    "import cv2\n",
    "from sklearn.decomposition import PCA\n",
    "from google.colab.patches import cv2_imshow\n",
    "from numpy.linalg import eigh"
   ]
  },
  {
   "cell_type": "code",
   "execution_count": 2,
   "metadata": {
    "colab": {
     "base_uri": "https://localhost:8080/",
     "height": 70
    },
    "colab_type": "code",
    "id": "OOXBGw3S-4Tz",
    "outputId": "cd11b3a3-02aa-4030-9651-1d5a98ac7963"
   },
   "outputs": [
    {
     "name": "stdout",
     "output_type": "stream",
     "text": [
      "521\n",
      "521\n"
     ]
    },
    {
     "data": {
      "text/plain": [
       "(521, 1024)"
      ]
     },
     "execution_count": 2,
     "metadata": {
      "tags": []
     },
     "output_type": "execute_result"
    }
   ],
   "source": [
    "count=0\n",
    "dir=\"/content/drive/My Drive/assg3_q1_dataset/\"\n",
    "img = cv2.imread(\"/content/drive/My Drive/assg3_q1_dataset/002_048.jpg\")\n",
    "img = cv2.resize(img, (0,0), fx=0.125, fy=0.125) \n",
    "grayall = cv2.cvtColor(img, cv2.COLOR_BGR2GRAY)\n",
    "grayall=grayall.flatten()\n",
    "labels=['2']\n",
    "print(len( os.listdir(dir)))\n",
    "for filename in os.listdir(dir):\n",
    "    count+=1\n",
    "    # if count==500:\n",
    "    #     break\n",
    "    # print(count,end=\",\")\n",
    "    \n",
    "    img = cv2.imread(dir+filename)\n",
    "    if img is None:\n",
    "        continue\n",
    "    labels.append(filename[2])\n",
    "    # print(count,end=\" \")\n",
    "    img = cv2.resize(img, (0,0), fx=0.125, fy=0.125) \n",
    "    gray = cv2.cvtColor(img, cv2.COLOR_BGR2GRAY)\n",
    "    gray=gray.flatten()\n",
    "    grayall=np.append(grayall,gray)\n",
    "grayall=grayall.reshape(521,-1)\n",
    "print(len(labels))\n",
    "grayall.shape"
   ]
  },
  {
   "cell_type": "code",
   "execution_count": 3,
   "metadata": {
    "colab": {
     "base_uri": "https://localhost:8080/",
     "height": 52
    },
    "colab_type": "code",
    "id": "6W05xQLesdDm",
    "outputId": "38430cb8-e87b-44ac-d4ad-3af4b27e276a"
   },
   "outputs": [
    {
     "name": "stdout",
     "output_type": "stream",
     "text": [
      "(131, 1024)\n",
      "131\n"
     ]
    }
   ],
   "source": [
    "from sklearn.model_selection import train_test_split\n",
    "x_train, x_test, y_train, y_test = train_test_split(grayall,labels, test_size=0.25, random_state=0)\n",
    "print(x_test.shape)\n",
    "print(len(y_test))"
   ]
  },
  {
   "cell_type": "code",
   "execution_count": 0,
   "metadata": {
    "colab": {},
    "colab_type": "code",
    "id": "-C-wLavC_BSy"
   },
   "outputs": [],
   "source": [
    "\n",
    "def calc_pca(data,num_eigen):\n",
    "\texit = []\n",
    "\tprevious = []\n",
    "\tmean = np.mean(data, axis = 0)\n",
    "    # print(mean.shape)\n",
    "    # print(mean)\n",
    "\tmean_sub = data - mean\n",
    "    # print(mean_sub.shape)\n",
    "    # print(mean_sub)\n",
    "\tcov = np.cov(mean_sub, rowvar = 0)\n",
    "    # print(cov.shape)\n",
    "    # print(cov)\n",
    "\teigen_values, eigen_vectors = np.linalg.eig(np.mat(cov))\n",
    "\tselection=0\n",
    "\tfor i in range(num_eigen):\n",
    "\t\tselection+=eigen_values[i]\n",
    "\t\n",
    "\tprint(selection/sum(eigen_values))\n",
    "\teigen_values_sorted = np.argsort(-eigen_values)\n",
    "\t# print(eigen_vectors.shape)\n",
    "\n",
    "\teigen_values_filtered = eigen_values_sorted[:num_eigen]\n",
    "\teigen_vectors_filtered = eigen_vectors[:,eigen_values_filtered]\n",
    "\t# print(eigen_vectors_filtered.shape)\n",
    "\tdata_matrix = mean_sub * eigen_vectors_filtered\t\t\n",
    "\treconstructed = (data_matrix * eigen_vectors_filtered.T) + mean\n",
    "\treturn (data_matrix, reconstructed.real, eigen_vectors_filtered.T)\n",
    "\t"
   ]
  },
  {
   "cell_type": "code",
   "execution_count": 0,
   "metadata": {
    "colab": {},
    "colab_type": "code",
    "id": "MsyrKcxrOuHm"
   },
   "outputs": [],
   "source": [
    "# from sklearn.decomposition import PCA\n",
    "# pca = PCA(n_components=10)\n",
    "# pca.fit(x_train)\n",
    "# print(pca.components_.shape)"
   ]
  },
  {
   "cell_type": "code",
   "execution_count": 6,
   "metadata": {
    "colab": {
     "base_uri": "https://localhost:8080/",
     "height": 318
    },
    "colab_type": "code",
    "id": "6p93e-cXBD_d",
    "outputId": "abd38656-d1cb-44bc-ca49-90702b8457ba"
   },
   "outputs": [
    {
     "name": "stdout",
     "output_type": "stream",
     "text": [
      "(390, 1024)\n",
      "(0.9325935540414743+0j)\n",
      "[[-5.61510336e+02  1.26203972e+03 -1.20928547e+02 ...  4.74808047e+01\n",
      "   3.70671705e+01  1.56535147e+00]\n",
      " [-4.52204363e+01  3.20911630e+02 -4.72429278e+02 ... -3.19651875e+01\n",
      "   1.34771175e+01  3.50523534e+01]\n",
      " [-1.01829089e+03 -8.18026630e+02  1.01400311e+02 ... -1.14092141e+02\n",
      "  -4.11978666e+01 -6.04163187e+01]\n",
      " ...\n",
      " [-6.09593120e+02  1.05555737e+03  8.88054312e+00 ...  1.67696761e+01\n",
      "   4.19025372e+01 -2.61321526e+01]\n",
      " [ 9.34060079e+02 -6.21246611e+02  2.44270480e+02 ...  2.96734464e+01\n",
      "   5.07101700e+00 -2.05886507e+01]\n",
      " [-7.63613581e+02  2.04716837e+02 -3.34184375e+01 ...  6.97441277e-01\n",
      "  -5.28843721e+01  4.28243906e+01]]\n",
      "(131, 1024)\n",
      "(131, 100)\n"
     ]
    }
   ],
   "source": [
    "print(x_train.shape)\n",
    "fitpca=calc_pca(x_train,100)\n",
    "x_train=fitpca[0].real\n",
    "print(x_train.real)\n",
    "\n",
    "print(x_test.shape)\n",
    "mean = np.mean(x_test, axis = 0)\n",
    "# print(mean.shape)\n",
    "# print(mean)\n",
    "mean_sub = x_test - mean\n",
    "x_test = mean_sub * fitpca[2].T\n",
    "x_test=x_test.real\n",
    "print(x_test.shape)\n",
    "# reconstructed = (data_matrix * ans[2]) + mean\n",
    "# img=reconstructed.real[0]\n",
    "# cv2_imshow(img.reshape(32,32))"
   ]
  },
  {
   "cell_type": "code",
   "execution_count": 0,
   "metadata": {
    "colab": {},
    "colab_type": "code",
    "id": "CSp4-qjbBraO"
   },
   "outputs": [],
   "source": [
    "# #ans[a][b][c] where a is sample(no of eigen vec), c is one image or row\n",
    "\n",
    "# cv2_imshow(ans[1][0].reshape(32,32)) #keeping 5 features\n",
    "# cv2_imshow(ans[1][0].reshape(32,32)) #keeping 25 features\n",
    "# # cv2_imshow(ans[2][1][0].reshape(32,32)) #keeping 50 features"
   ]
  },
  {
   "cell_type": "code",
   "execution_count": 0,
   "metadata": {
    "colab": {},
    "colab_type": "code",
    "id": "MO0m6Z9K8SLx"
   },
   "outputs": [],
   "source": [
    "from sklearn.preprocessing import StandardScaler\n",
    "scaler = StandardScaler()\n",
    "# Fit on training set only.\n",
    "scaler.fit(x_train)\n",
    "# Apply transform to both the training set and the test set.\n",
    "x_train = scaler.transform(x_train)\n",
    "x_test = scaler.transform(x_test)"
   ]
  },
  {
   "cell_type": "code",
   "execution_count": 9,
   "metadata": {
    "colab": {
     "base_uri": "https://localhost:8080/",
     "height": 158
    },
    "colab_type": "code",
    "id": "o8_b7Jq2sQ4O",
    "outputId": "d4c0308e-6771-426b-b369-757aceaef935"
   },
   "outputs": [
    {
     "name": "stdout",
     "output_type": "stream",
     "text": [
      "['6' '2' '2' '5' '3' '3' '5' '6' '4' '6' '0' '5' '2' '1' '5' '4' '3' '7'\n",
      " '5' '6' '1' '6' '0' '0' '1' '0' '7' '4' '3' '1' '5' '0' '2' '5' '3' '6'\n",
      " '7' '7' '7' '5' '2' '1' '1' '4' '2' '4' '2' '4' '0' '3' '3' '4' '6' '7'\n",
      " '3' '1' '4' '7' '4' '7' '0' '5' '6' '1' '3' '7' '3' '1' '4' '7' '3' '0'\n",
      " '6' '0' '5' '2' '2' '6' '5' '7' '0' '2' '7' '2' '0' '4' '7' '2' '5' '6'\n",
      " '3' '1' '2' '4' '1' '5' '1' '7' '2' '2' '7' '6' '6' '0' '2' '2' '6' '5'\n",
      " '0' '2' '0' '1' '3' '4' '4' '6' '0' '1' '7' '3' '7' '1' '0' '6' '0' '5'\n",
      " '5' '1' '7' '5' '2']\n"
     ]
    }
   ],
   "source": [
    "from sklearn.linear_model import LogisticRegression\n",
    "logisticRegr = LogisticRegression(max_iter=10000,multi_class='ovr')\n",
    "logisticRegr.fit(x_train, y_train)\n",
    "y_pred=logisticRegr.predict(x_test)\n",
    "print(y_pred)\n"
   ]
  },
  {
   "cell_type": "code",
   "execution_count": 10,
   "metadata": {
    "colab": {
     "base_uri": "https://localhost:8080/",
     "height": 90
    },
    "colab_type": "code",
    "id": "ymRQ7yi2tYpc",
    "outputId": "94b7feaa-915f-4e0b-bc2d-200895f644be"
   },
   "outputs": [
    {
     "name": "stdout",
     "output_type": "stream",
     "text": [
      "0.5801526717557252\n",
      "['6', '2', '2', '5', '3', '7', '5', '4', '4', '0', '7', '5', '2', '7', '4', '3', '3', '7', '5', '4', '0', '6', '1', '0', '1', '5', '7', '4', '3', '1', '5', '1', '6', '5', '5', '6', '0', '7', '7', '5', '2', '4', '3', '4', '1', '5', '4', '4', '7', '3', '3', '4', '6', '3', '3', '1', '4', '7', '4', '0', '0', '4', '6', '1', '3', '6', '7', '6', '4', '7', '3', '0', '6', '3', '1', '2', '2', '1', '5', '7', '0', '2', '4', '2', '0', '6', '7', '2', '5', '7', '5', '1', '2', '4', '1', '5', '3', '7', '1', '2', '7', '6', '2', '4', '7', '1', '2', '5', '7', '5', '0', '1', '3', '4', '0', '0', '1', '5', '7', '3', '4', '6', '7', '6', '4', '1', '5', '3', '7', '3', '1']\n",
      "0.5801526717557252\n"
     ]
    }
   ],
   "source": [
    "\n",
    "import sklearn \n",
    "print(sklearn.metrics.accuracy_score(y_test, y_pred, normalize=True, sample_weight=None))\n",
    "print(y_test)\n",
    "score = logisticRegr.score(x_test, y_test)\n",
    "print(score)"
   ]
  },
  {
   "cell_type": "code",
   "execution_count": 0,
   "metadata": {
    "colab": {},
    "colab_type": "code",
    "id": "jfyJ_s92kgCp"
   },
   "outputs": [],
   "source": [
    "import numpy as np\n",
    "import matplotlib.pyplot as plt\n",
    "\n",
    "class MultiClassLogisticRegression:\n",
    "    \n",
    "    def __init__(self, n_iter = 10000, thres=1e-3):\n",
    "        self.n_iter = n_iter\n",
    "        self.thres = thres\n",
    "    \n",
    "    def fit(self, X, y, batch_size=64, lr=0.001, rand_seed=4, verbose=False): \n",
    "        np.random.seed(rand_seed) \n",
    "        self.classes = np.unique(y)\n",
    "        self.class_labels = {c:i for i,c in enumerate(self.classes)}\n",
    "        X = self.add_bias(X)\n",
    "        y = self.one_hot(y)\n",
    "        self.loss = []\n",
    "        self.weights = np.zeros(shape=(len(self.classes),X.shape[1]))\n",
    "        self.fit_data(X, y, batch_size, lr, verbose)\n",
    "        return self\n",
    " \n",
    "    def fit_data(self, X, y, batch_size, lr, verbose):\n",
    "        i = 0\n",
    "        while (not self.n_iter or i < self.n_iter):\n",
    "            self.loss.append(self.cross_entropy(y, self.predict_(X)))\n",
    "            idx = np.random.choice(X.shape[0], batch_size)\n",
    "            X_batch, y_batch = X[idx], y[idx]\n",
    "            error = y_batch - self.predict_(X_batch)\n",
    "            update = (lr * np.dot(error.T, X_batch))\n",
    "            self.weights += update\n",
    "            if np.abs(update).max() < self.thres: break\n",
    "            if i % 1000 == 0 and verbose: \n",
    "                print(' Training Accuray at {} iterations is {}'.format(i, self.evaluate_(X, y)))\n",
    "            i +=1\n",
    "    \n",
    "    def predict(self, X):\n",
    "        return self.predict_(self.add_bias(X))\n",
    "    \n",
    "    def predict_(self, X):\n",
    "        pre_vals = np.dot(X, self.weights.T).reshape(-1,len(self.classes))\n",
    "        return self.softmax(pre_vals)\n",
    "    \n",
    "    def softmax(self, z):\n",
    "        return np.exp(z) / np.sum(np.exp(z), axis=1).reshape(-1,1)\n",
    "\n",
    "    def predict_classes(self, X):\n",
    "        self.probs_ = self.predict(X)\n",
    "        return np.vectorize(lambda c: self.classes[c])(np.argmax(self.probs_, axis=1))\n",
    "  \n",
    "    def add_bias(self,X):\n",
    "        return np.insert(X, 0, 1, axis=1)\n",
    "  \n",
    "    def get_randon_weights(self, row, col):\n",
    "        return np.zeros(shape=(row,col))\n",
    "\n",
    "    def one_hot(self, y):\n",
    "        return np.eye(len(self.classes))[np.vectorize(lambda c: self.class_labels[c])(y).reshape(-1)]\n",
    "    \n",
    "    def score(self, X, y):\n",
    "        return np.mean(self.predict_classes(X) == y)\n",
    "    \n",
    "    def evaluate_(self, X, y):\n",
    "        return np.mean(np.argmax(self.predict_(X), axis=1) == np.argmax(y, axis=1))\n",
    "    \n",
    "    def cross_entropy(self, y, probs):\n",
    "        return -1 * np.mean(y * np.log(probs))"
   ]
  },
  {
   "cell_type": "code",
   "execution_count": 12,
   "metadata": {
    "colab": {
     "base_uri": "https://localhost:8080/",
     "height": 214
    },
    "colab_type": "code",
    "id": "8vEb-D9mkgPa",
    "outputId": "d07c9529-2be8-4629-e808-56db023d129e"
   },
   "outputs": [
    {
     "name": "stdout",
     "output_type": "stream",
     "text": [
      "['6' '2' '2' '4' '5' '3' '5' '6' '4' '1' '7' '5' '2' '7' '5' '4' '3' '7'\n",
      " '5' '1' '1' '6' '0' '0' '1' '0' '7' '4' '3' '1' '5' '4' '2' '5' '1' '0'\n",
      " '7' '6' '7' '5' '2' '4' '1' '4' '2' '4' '2' '4' '0' '3' '3' '4' '6' '7'\n",
      " '3' '0' '4' '7' '4' '7' '0' '5' '6' '1' '1' '7' '7' '1' '4' '7' '3' '0'\n",
      " '6' '1' '0' '2' '2' '1' '5' '7' '0' '2' '4' '2' '0' '4' '7' '2' '5' '6'\n",
      " '0' '1' '2' '4' '1' '5' '1' '7' '2' '2' '7' '6' '6' '0' '2' '2' '6' '5'\n",
      " '0' '2' '0' '1' '3' '4' '4' '6' '0' '1' '7' '3' '1' '5' '0' '6' '0' '5'\n",
      " '5' '1' '7' '5' '2']\n",
      "['6', '2', '2', '5', '3', '7', '5', '4', '4', '0', '7', '5', '2', '7', '4', '3', '3', '7', '5', '4', '0', '6', '1', '0', '1', '5', '7', '4', '3', '1', '5', '1', '6', '5', '5', '6', '0', '7', '7', '5', '2', '4', '3', '4', '1', '5', '4', '4', '7', '3', '3', '4', '6', '3', '3', '1', '4', '7', '4', '0', '0', '4', '6', '1', '3', '6', '7', '6', '4', '7', '3', '0', '6', '3', '1', '2', '2', '1', '5', '7', '0', '2', '4', '2', '0', '6', '7', '2', '5', '7', '5', '1', '2', '4', '1', '5', '3', '7', '1', '2', '7', '6', '2', '4', '7', '1', '2', '5', '7', '5', '0', '1', '3', '4', '0', '0', '1', '5', '7', '3', '4', '6', '7', '6', '4', '1', '5', '3', '7', '3', '1']\n",
      "0.5801526717557252\n"
     ]
    }
   ],
   "source": [
    "\n",
    "lr = MultiClassLogisticRegression()\n",
    "\n",
    "lr.fit(x_train,y_train, lr=0.0005)\n",
    "\n",
    "pre = lr.predict_classes(x_test)\n",
    "print(pre)\n",
    "print(y_test)\n",
    "import sklearn\n",
    "print(sklearn.metrics.accuracy_score(pre, y_test))"
   ]
  },
  {
   "cell_type": "code",
   "execution_count": 0,
   "metadata": {
    "colab": {},
    "colab_type": "code",
    "id": "v2TJbdgz-bX7"
   },
   "outputs": [],
   "source": []
  }
 ],
 "metadata": {
  "colab": {
   "collapsed_sections": [],
   "name": "q2_assg3.ipynb",
   "provenance": []
  },
  "kernelspec": {
   "display_name": "Python 3",
   "language": "python",
   "name": "python3"
  },
  "language_info": {
   "codemirror_mode": {
    "name": "ipython",
    "version": 3
   },
   "file_extension": ".py",
   "mimetype": "text/x-python",
   "name": "python",
   "nbconvert_exporter": "python",
   "pygments_lexer": "ipython3",
   "version": "3.6.9"
  }
 },
 "nbformat": 4,
 "nbformat_minor": 1
}
